{
  "nbformat": 4,
  "nbformat_minor": 0,
  "metadata": {
    "colab": {
      "name": "Python.ipynb",
      "provenance": []
    },
    "kernelspec": {
      "name": "python3",
      "display_name": "Python 3"
    }
  },
  "cells": [
    {
      "cell_type": "code",
      "metadata": {
        "colab": {
          "base_uri": "https://localhost:8080/"
        },
        "id": "ZFPfchG94E7V",
        "outputId": "31b77d1a-401c-4bd0-cb32-75fef6f90ef8"
      },
      "source": [
        "# Day 2 \r\n",
        "# Question 1\r\n",
        "\r\n",
        "string = \"i love python programming\"\r\n",
        "string1 = \"26102006\"\r\n",
        "print(string.capitalize())\r\n",
        "print(string.upper())\r\n",
        "print(string.isalpha())\r\n",
        "print(string.isdigit())\r\n",
        "print(string1.isdigit())\r\n",
        "print(string.title())\r\n",
        "print(\"\\n\")\r\n",
        "\r\n",
        "# Question 2\r\n",
        "\r\n",
        "list1 = [1, 5, 3, 2, 4, 7, 9, 6, 8]\r\n",
        "list1.reverse()\r\n",
        "print(list1)\r\n",
        "list1.sort()\r\n",
        "print(list1)\r\n",
        "print(len(list1))\r\n",
        "print(min(list1))\r\n",
        "print(max(list1))\r\n",
        "print(\"\\n\")\r\n",
        "\r\n",
        "# Question 3\r\n",
        "\r\n",
        "dict1 = {1:\"A\", 2:\"B\", 3:\"C\", 4:\"D\", 5:\"Abhi\"}\r\n",
        "print(len(dict1))\r\n",
        "print(dict1.items())\r\n",
        "print(dict1.keys())\r\n",
        "print(dict1)\r\n",
        "print(dict1.clear())\r\n",
        "print(dict1)\r\n",
        "del dict1"
      ],
      "execution_count": 42,
      "outputs": [
        {
          "output_type": "stream",
          "text": [
            "I love python programming\n",
            "I LOVE PYTHON PROGRAMMING\n",
            "False\n",
            "False\n",
            "True\n",
            "I Love Python Programming\n",
            "\n",
            "\n",
            "[8, 6, 9, 7, 4, 2, 3, 5, 1]\n",
            "[1, 2, 3, 4, 5, 6, 7, 8, 9]\n",
            "9\n",
            "1\n",
            "9\n",
            "\n",
            "\n",
            "5\n",
            "dict_items([(1, 'A'), (2, 'B'), (3, 'C'), (4, 'D'), (5, 'Abhi')])\n",
            "dict_keys([1, 2, 3, 4, 5])\n",
            "{1: 'A', 2: 'B', 3: 'C', 4: 'D', 5: 'Abhi'}\n",
            "None\n",
            "{}\n"
          ],
          "name": "stdout"
        }
      ]
    }
  ]
}